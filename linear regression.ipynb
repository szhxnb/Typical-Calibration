{
 "cells": [
  {
   "cell_type": "markdown",
   "metadata": {},
   "source": [
    "# Import Packages"
   ]
  },
  {
   "cell_type": "code",
   "execution_count": 1,
   "metadata": {},
   "outputs": [],
   "source": [
    "import warnings\n",
    "warnings.filterwarnings('ignore')"
   ]
  },
  {
   "cell_type": "code",
   "execution_count": 2,
   "metadata": {},
   "outputs": [],
   "source": [
    "%matplotlib inline\n",
    "\n",
    "import os\n",
    "from utils import *\n",
    "\n",
    "import pandas as pd \n",
    "import numpy as np \n",
    "import seaborn as sns\n",
    "import statsmodels.api as sm \n",
    "import matplotlib.pyplot as plt \n",
    "\n",
    "from statsmodels.tsa.stattools import adfuller\n",
    "\n",
    "from sklearn.model_selection import train_test_split \n",
    "from sklearn.preprocessing import StandardScaler \n",
    "from sklearn.decomposition import PCA \n",
    "from sklearn.linear_model import Lasso \n",
    "from sklearn.metrics import mean_squared_error \n",
    "\n",
    "from talib import RSI, BBANDS, MACD, NATR, ATR"
   ]
  },
  {
   "cell_type": "markdown",
   "metadata": {},
   "source": [
    "# Load Data"
   ]
  },
  {
   "cell_type": "markdown",
   "metadata": {},
   "source": [
    "## Check Data Input"
   ]
  },
  {
   "cell_type": "code",
   "execution_count": 3,
   "metadata": {},
   "outputs": [],
   "source": [
    "data = pd.read_parquet('Combined Clean Data Filtered.csv.parquet')"
   ]
  },
  {
   "cell_type": "code",
   "execution_count": 4,
   "metadata": {},
   "outputs": [
    {
     "name": "stdout",
     "output_type": "stream",
     "text": [
      "<class 'pandas.core.frame.DataFrame'>\n",
      "DatetimeIndex: 3206758 entries, 2022-01-03 09:57:44 to 2023-03-31 15:49:58\n",
      "Columns: 377 entries, X1 to Y2\n",
      "dtypes: float32(377)\n",
      "memory usage: 4.5 GB\n"
     ]
    }
   ],
   "source": [
    "data.info()"
   ]
  },
  {
   "cell_type": "code",
   "execution_count": 5,
   "metadata": {},
   "outputs": [],
   "source": [
    "data = data.resample(rule='12H').mean().dropna() "
   ]
  },
  {
   "cell_type": "code",
   "execution_count": 6,
   "metadata": {},
   "outputs": [
    {
     "data": {
      "text/html": [
       "<div>\n",
       "<style scoped>\n",
       "    .dataframe tbody tr th:only-of-type {\n",
       "        vertical-align: middle;\n",
       "    }\n",
       "\n",
       "    .dataframe tbody tr th {\n",
       "        vertical-align: top;\n",
       "    }\n",
       "\n",
       "    .dataframe thead th {\n",
       "        text-align: right;\n",
       "    }\n",
       "</style>\n",
       "<table border=\"1\" class=\"dataframe\">\n",
       "  <thead>\n",
       "    <tr style=\"text-align: right;\">\n",
       "      <th></th>\n",
       "      <th>X1</th>\n",
       "      <th>X10</th>\n",
       "      <th>X100</th>\n",
       "      <th>X101</th>\n",
       "      <th>X102</th>\n",
       "      <th>X103</th>\n",
       "      <th>X104</th>\n",
       "      <th>X105</th>\n",
       "      <th>X106</th>\n",
       "      <th>X107</th>\n",
       "      <th>...</th>\n",
       "      <th>X92</th>\n",
       "      <th>X93</th>\n",
       "      <th>X94</th>\n",
       "      <th>X95</th>\n",
       "      <th>X96</th>\n",
       "      <th>X97</th>\n",
       "      <th>X98</th>\n",
       "      <th>X99</th>\n",
       "      <th>Y1</th>\n",
       "      <th>Y2</th>\n",
       "    </tr>\n",
       "    <tr>\n",
       "      <th>time</th>\n",
       "      <th></th>\n",
       "      <th></th>\n",
       "      <th></th>\n",
       "      <th></th>\n",
       "      <th></th>\n",
       "      <th></th>\n",
       "      <th></th>\n",
       "      <th></th>\n",
       "      <th></th>\n",
       "      <th></th>\n",
       "      <th></th>\n",
       "      <th></th>\n",
       "      <th></th>\n",
       "      <th></th>\n",
       "      <th></th>\n",
       "      <th></th>\n",
       "      <th></th>\n",
       "      <th></th>\n",
       "      <th></th>\n",
       "      <th></th>\n",
       "      <th></th>\n",
       "    </tr>\n",
       "  </thead>\n",
       "  <tbody>\n",
       "    <tr>\n",
       "      <th>2022-01-03 00:00:00</th>\n",
       "      <td>0.068942</td>\n",
       "      <td>0.428335</td>\n",
       "      <td>0.017969</td>\n",
       "      <td>0.020077</td>\n",
       "      <td>0.042287</td>\n",
       "      <td>0.042625</td>\n",
       "      <td>0.065552</td>\n",
       "      <td>-0.008052</td>\n",
       "      <td>-0.013215</td>\n",
       "      <td>0.059516</td>\n",
       "      <td>...</td>\n",
       "      <td>0.038223</td>\n",
       "      <td>0.038590</td>\n",
       "      <td>-0.190782</td>\n",
       "      <td>-0.436655</td>\n",
       "      <td>-0.169957</td>\n",
       "      <td>-0.123018</td>\n",
       "      <td>0.082910</td>\n",
       "      <td>0.029586</td>\n",
       "      <td>-0.807994</td>\n",
       "      <td>-0.305133</td>\n",
       "    </tr>\n",
       "    <tr>\n",
       "      <th>2022-01-03 12:00:00</th>\n",
       "      <td>0.473068</td>\n",
       "      <td>0.064733</td>\n",
       "      <td>-0.016727</td>\n",
       "      <td>-0.015065</td>\n",
       "      <td>-0.003647</td>\n",
       "      <td>-0.008741</td>\n",
       "      <td>-0.000208</td>\n",
       "      <td>-0.043048</td>\n",
       "      <td>-0.034050</td>\n",
       "      <td>-0.008055</td>\n",
       "      <td>...</td>\n",
       "      <td>-0.002751</td>\n",
       "      <td>-0.007727</td>\n",
       "      <td>0.004366</td>\n",
       "      <td>-0.157683</td>\n",
       "      <td>-0.117361</td>\n",
       "      <td>-0.073352</td>\n",
       "      <td>-0.030915</td>\n",
       "      <td>0.000329</td>\n",
       "      <td>0.959805</td>\n",
       "      <td>1.194735</td>\n",
       "    </tr>\n",
       "    <tr>\n",
       "      <th>2022-01-04 00:00:00</th>\n",
       "      <td>-0.190049</td>\n",
       "      <td>0.501462</td>\n",
       "      <td>0.016742</td>\n",
       "      <td>0.009144</td>\n",
       "      <td>-0.003687</td>\n",
       "      <td>-0.006071</td>\n",
       "      <td>0.049916</td>\n",
       "      <td>-0.015306</td>\n",
       "      <td>0.006405</td>\n",
       "      <td>0.038204</td>\n",
       "      <td>...</td>\n",
       "      <td>-0.002494</td>\n",
       "      <td>-0.003193</td>\n",
       "      <td>0.278834</td>\n",
       "      <td>-0.137937</td>\n",
       "      <td>0.142086</td>\n",
       "      <td>0.536449</td>\n",
       "      <td>0.431356</td>\n",
       "      <td>0.016378</td>\n",
       "      <td>-2.225570</td>\n",
       "      <td>-7.294621</td>\n",
       "    </tr>\n",
       "    <tr>\n",
       "      <th>2022-01-04 12:00:00</th>\n",
       "      <td>-0.005852</td>\n",
       "      <td>0.215169</td>\n",
       "      <td>-0.006019</td>\n",
       "      <td>-0.008318</td>\n",
       "      <td>0.004861</td>\n",
       "      <td>0.004961</td>\n",
       "      <td>0.022689</td>\n",
       "      <td>-0.013130</td>\n",
       "      <td>-0.018766</td>\n",
       "      <td>0.016892</td>\n",
       "      <td>...</td>\n",
       "      <td>0.003835</td>\n",
       "      <td>0.003971</td>\n",
       "      <td>0.083652</td>\n",
       "      <td>-0.012055</td>\n",
       "      <td>-0.014927</td>\n",
       "      <td>0.065504</td>\n",
       "      <td>0.120930</td>\n",
       "      <td>0.013042</td>\n",
       "      <td>0.251694</td>\n",
       "      <td>1.047342</td>\n",
       "    </tr>\n",
       "    <tr>\n",
       "      <th>2022-01-05 00:00:00</th>\n",
       "      <td>-0.228408</td>\n",
       "      <td>0.040838</td>\n",
       "      <td>0.073119</td>\n",
       "      <td>0.070768</td>\n",
       "      <td>0.037912</td>\n",
       "      <td>0.031629</td>\n",
       "      <td>0.051789</td>\n",
       "      <td>0.118844</td>\n",
       "      <td>0.125025</td>\n",
       "      <td>0.074790</td>\n",
       "      <td>...</td>\n",
       "      <td>0.033979</td>\n",
       "      <td>0.028445</td>\n",
       "      <td>-0.070204</td>\n",
       "      <td>-0.355912</td>\n",
       "      <td>-0.030104</td>\n",
       "      <td>0.004571</td>\n",
       "      <td>-0.001903</td>\n",
       "      <td>0.038807</td>\n",
       "      <td>-0.885290</td>\n",
       "      <td>-0.659349</td>\n",
       "    </tr>\n",
       "  </tbody>\n",
       "</table>\n",
       "<p>5 rows × 377 columns</p>\n",
       "</div>"
      ],
      "text/plain": [
       "                           X1       X10      X100      X101      X102  \\\n",
       "time                                                                    \n",
       "2022-01-03 00:00:00  0.068942  0.428335  0.017969  0.020077  0.042287   \n",
       "2022-01-03 12:00:00  0.473068  0.064733 -0.016727 -0.015065 -0.003647   \n",
       "2022-01-04 00:00:00 -0.190049  0.501462  0.016742  0.009144 -0.003687   \n",
       "2022-01-04 12:00:00 -0.005852  0.215169 -0.006019 -0.008318  0.004861   \n",
       "2022-01-05 00:00:00 -0.228408  0.040838  0.073119  0.070768  0.037912   \n",
       "\n",
       "                         X103      X104      X105      X106      X107  ...  \\\n",
       "time                                                                   ...   \n",
       "2022-01-03 00:00:00  0.042625  0.065552 -0.008052 -0.013215  0.059516  ...   \n",
       "2022-01-03 12:00:00 -0.008741 -0.000208 -0.043048 -0.034050 -0.008055  ...   \n",
       "2022-01-04 00:00:00 -0.006071  0.049916 -0.015306  0.006405  0.038204  ...   \n",
       "2022-01-04 12:00:00  0.004961  0.022689 -0.013130 -0.018766  0.016892  ...   \n",
       "2022-01-05 00:00:00  0.031629  0.051789  0.118844  0.125025  0.074790  ...   \n",
       "\n",
       "                          X92       X93       X94       X95       X96  \\\n",
       "time                                                                    \n",
       "2022-01-03 00:00:00  0.038223  0.038590 -0.190782 -0.436655 -0.169957   \n",
       "2022-01-03 12:00:00 -0.002751 -0.007727  0.004366 -0.157683 -0.117361   \n",
       "2022-01-04 00:00:00 -0.002494 -0.003193  0.278834 -0.137937  0.142086   \n",
       "2022-01-04 12:00:00  0.003835  0.003971  0.083652 -0.012055 -0.014927   \n",
       "2022-01-05 00:00:00  0.033979  0.028445 -0.070204 -0.355912 -0.030104   \n",
       "\n",
       "                          X97       X98       X99        Y1        Y2  \n",
       "time                                                                   \n",
       "2022-01-03 00:00:00 -0.123018  0.082910  0.029586 -0.807994 -0.305133  \n",
       "2022-01-03 12:00:00 -0.073352 -0.030915  0.000329  0.959805  1.194735  \n",
       "2022-01-04 00:00:00  0.536449  0.431356  0.016378 -2.225570 -7.294621  \n",
       "2022-01-04 12:00:00  0.065504  0.120930  0.013042  0.251694  1.047342  \n",
       "2022-01-05 00:00:00  0.004571 -0.001903  0.038807 -0.885290 -0.659349  \n",
       "\n",
       "[5 rows x 377 columns]"
      ]
     },
     "execution_count": 6,
     "metadata": {},
     "output_type": "execute_result"
    }
   ],
   "source": [
    "data.head()"
   ]
  },
  {
   "cell_type": "code",
   "execution_count": 7,
   "metadata": {},
   "outputs": [],
   "source": [
    "X = data.drop(columns=['Y1', 'Y2']) \n",
    "Y1 = data['Y1'] \n",
    "Y2 = data['Y2'] "
   ]
  },
  {
   "cell_type": "code",
   "execution_count": 8,
   "metadata": {},
   "outputs": [
    {
     "data": {
      "text/html": [
       "<div>\n",
       "<style scoped>\n",
       "    .dataframe tbody tr th:only-of-type {\n",
       "        vertical-align: middle;\n",
       "    }\n",
       "\n",
       "    .dataframe tbody tr th {\n",
       "        vertical-align: top;\n",
       "    }\n",
       "\n",
       "    .dataframe thead th {\n",
       "        text-align: right;\n",
       "    }\n",
       "</style>\n",
       "<table border=\"1\" class=\"dataframe\">\n",
       "  <thead>\n",
       "    <tr style=\"text-align: right;\">\n",
       "      <th></th>\n",
       "      <th>Test statistic</th>\n",
       "      <th>P-Value</th>\n",
       "    </tr>\n",
       "    <tr>\n",
       "      <th>Column</th>\n",
       "      <th></th>\n",
       "      <th></th>\n",
       "    </tr>\n",
       "  </thead>\n",
       "  <tbody>\n",
       "    <tr>\n",
       "      <th>X237</th>\n",
       "      <td>-24.366257</td>\n",
       "      <td>0.000000</td>\n",
       "    </tr>\n",
       "    <tr>\n",
       "      <th>X196</th>\n",
       "      <td>-21.030156</td>\n",
       "      <td>0.000000</td>\n",
       "    </tr>\n",
       "    <tr>\n",
       "      <th>X197</th>\n",
       "      <td>-21.013955</td>\n",
       "      <td>0.000000</td>\n",
       "    </tr>\n",
       "    <tr>\n",
       "      <th>X145</th>\n",
       "      <td>-19.466608</td>\n",
       "      <td>0.000000</td>\n",
       "    </tr>\n",
       "    <tr>\n",
       "      <th>X144</th>\n",
       "      <td>-19.920434</td>\n",
       "      <td>0.000000</td>\n",
       "    </tr>\n",
       "    <tr>\n",
       "      <th>...</th>\n",
       "      <td>...</td>\n",
       "      <td>...</td>\n",
       "    </tr>\n",
       "    <tr>\n",
       "      <th>X52</th>\n",
       "      <td>-3.853147</td>\n",
       "      <td>0.002408</td>\n",
       "    </tr>\n",
       "    <tr>\n",
       "      <th>X79</th>\n",
       "      <td>-3.597403</td>\n",
       "      <td>0.005811</td>\n",
       "    </tr>\n",
       "    <tr>\n",
       "      <th>X232</th>\n",
       "      <td>-3.278366</td>\n",
       "      <td>0.015874</td>\n",
       "    </tr>\n",
       "    <tr>\n",
       "      <th>X83</th>\n",
       "      <td>-3.213512</td>\n",
       "      <td>0.019216</td>\n",
       "    </tr>\n",
       "    <tr>\n",
       "      <th>X120</th>\n",
       "      <td>-2.603118</td>\n",
       "      <td>0.092355</td>\n",
       "    </tr>\n",
       "  </tbody>\n",
       "</table>\n",
       "<p>375 rows × 2 columns</p>\n",
       "</div>"
      ],
      "text/plain": [
       "        Test statistic   P-Value\n",
       "Column                          \n",
       "X237        -24.366257  0.000000\n",
       "X196        -21.030156  0.000000\n",
       "X197        -21.013955  0.000000\n",
       "X145        -19.466608  0.000000\n",
       "X144        -19.920434  0.000000\n",
       "...                ...       ...\n",
       "X52          -3.853147  0.002408\n",
       "X79          -3.597403  0.005811\n",
       "X232         -3.278366  0.015874\n",
       "X83          -3.213512  0.019216\n",
       "X120         -2.603118  0.092355\n",
       "\n",
       "[375 rows x 2 columns]"
      ]
     },
     "execution_count": 8,
     "metadata": {},
     "output_type": "execute_result"
    }
   ],
   "source": [
    "def testStationarity(df):\n",
    "    results = []\n",
    "    for column in df.columns:\n",
    "        adf_result = adfuller(df[column].dropna()) # Performing the ADF Test\n",
    "        test_statistic = adf_result[0] # Extracting Test Statistic \n",
    "        p_value = adf_result[1] # Extracting P-Value\n",
    "        results.append([column, test_statistic, p_value])\n",
    "    results_df = pd.DataFrame(results, columns=['Column', 'Test statistic', 'P-Value'])\n",
    "    results_df.set_index('Column', inplace=True)\n",
    "    return results_df\n",
    "\n",
    "# Test the stationarity for independent variables \n",
    "testStationarity(X).sort_values('P-Value')"
   ]
  },
  {
   "cell_type": "code",
   "execution_count": 9,
   "metadata": {},
   "outputs": [
    {
     "data": {
      "text/plain": [
       "Text(0.5, 1.0, 'Scatter Plot for 1 Dimension')"
      ]
     },
     "execution_count": 9,
     "metadata": {},
     "output_type": "execute_result"
    },
    {
     "data": {
      "image/png": "[encoded data removed]",
      "text/plain": [
       "<Figure size 640x480 with 1 Axes>"
      ]
     },
     "metadata": {},
     "output_type": "display_data"
    }
   ],
   "source": [
    "plt.scatter(data['X1'], data['Y1']) \n",
    "plt.xlabel('X') \n",
    "plt.ylabel('Y') \n",
    "plt.title('Scatter Plot for 1 Dimension')"
   ]
  },
  {
   "cell_type": "markdown",
   "metadata": {},
   "source": [
    "## Train Test Split and Scale"
   ]
  },
  {
   "cell_type": "code",
   "execution_count": 10,
   "metadata": {},
   "outputs": [],
   "source": [
    "X_train_Y1, X_test_Y1, Y1_train, Y1_test = train_test_split(X, Y1, test_size=0.2, random_state=42)\n",
    "X_train_Y2, X_test_Y2, Y2_train, Y2_test = train_test_split(X, Y2, test_size=0.2, random_state=42)"
   ]
  },
  {
   "cell_type": "code",
   "execution_count": 11,
   "metadata": {},
   "outputs": [],
   "source": [
    "scaler = StandardScaler() \n",
    "X_train_scaled_Y1 = scaler.fit_transform(X_train_Y1) \n",
    "X_train_scaled_Y2 = scaler.fit_transform(X_train_Y2) "
   ]
  },
  {
   "cell_type": "markdown",
   "metadata": {},
   "source": [
    "# Feature Selection"
   ]
  },
  {
   "cell_type": "markdown",
   "metadata": {},
   "source": [
    "## Tuning Y1"
   ]
  },
  {
   "cell_type": "markdown",
   "metadata": {},
   "source": [
    "### PCA"
   ]
  },
  {
   "cell_type": "code",
   "execution_count": 12,
   "metadata": {},
   "outputs": [],
   "source": [
    "pca = PCA(n_components=4) \n",
    "X_pca1 = pd.DataFrame(pca.fit_transform(X_train_scaled_Y1), index=X_train_Y1.index) \n",
    "explained_variance1 = pca.explained_variance_ratio_"
   ]
  },
  {
   "cell_type": "code",
   "execution_count": 13,
   "metadata": {},
   "outputs": [
    {
     "data": {
      "text/plain": [
       "array([0.22842221, 0.16981015, 0.14296457, 0.06324006], dtype=float32)"
      ]
     },
     "execution_count": 13,
     "metadata": {},
     "output_type": "execute_result"
    }
   ],
   "source": [
    "explained_variance1"
   ]
  },
  {
   "cell_type": "code",
   "execution_count": 14,
   "metadata": {},
   "outputs": [
    {
     "data": {
      "text/plain": [
       "0.6044369861483574"
      ]
     },
     "execution_count": 14,
     "metadata": {},
     "output_type": "execute_result"
    }
   ],
   "source": [
    "sum(explained_variance1)"
   ]
  },
  {
   "cell_type": "code",
   "execution_count": 15,
   "metadata": {},
   "outputs": [
    {
     "data": {
      "text/html": [
       "<table class=\"simpletable\">\n",
       "<caption>OLS Regression Results</caption>\n",
       "<tr>\n",
       "  <th>Dep. Variable:</th>           <td>Y1</td>        <th>  R-squared (uncentered):</th>      <td>   0.414</td>\n",
       "</tr>\n",
       "<tr>\n",
       "  <th>Model:</th>                   <td>OLS</td>       <th>  Adj. R-squared (uncentered):</th> <td>   0.409</td>\n",
       "</tr>\n",
       "<tr>\n",
       "  <th>Method:</th>             <td>Least Squares</td>  <th>  F-statistic:       </th>          <td>   82.98</td>\n",
       "</tr>\n",
       "<tr>\n",
       "  <th>Date:</th>             <td>Sun, 21 Jan 2024</td> <th>  Prob (F-statistic):</th>          <td>2.92e-53</td>\n",
       "</tr>\n",
       "<tr>\n",
       "  <th>Time:</th>                 <td>13:32:35</td>     <th>  Log-Likelihood:    </th>          <td> -1023.9</td>\n",
       "</tr>\n",
       "<tr>\n",
       "  <th>No. Observations:</th>      <td>   474</td>      <th>  AIC:               </th>          <td>   2056.</td>\n",
       "</tr>\n",
       "<tr>\n",
       "  <th>Df Residuals:</th>          <td>   470</td>      <th>  BIC:               </th>          <td>   2072.</td>\n",
       "</tr>\n",
       "<tr>\n",
       "  <th>Df Model:</th>              <td>     4</td>      <th>                     </th>              <td> </td>   \n",
       "</tr>\n",
       "<tr>\n",
       "  <th>Covariance Type:</th>      <td>nonrobust</td>    <th>                     </th>              <td> </td>   \n",
       "</tr>\n",
       "</table>\n",
       "<table class=\"simpletable\">\n",
       "<tr>\n",
       "  <td></td>     <th>coef</th>     <th>std err</th>      <th>t</th>      <th>P>|t|</th>  <th>[0.025</th>    <th>0.975]</th>  \n",
       "</tr>\n",
       "<tr>\n",
       "  <th>0</th> <td>   -0.1346</td> <td>    0.010</td> <td>  -12.870</td> <td> 0.000</td> <td>   -0.155</td> <td>   -0.114</td>\n",
       "</tr>\n",
       "<tr>\n",
       "  <th>1</th> <td>   -0.0592</td> <td>    0.012</td> <td>   -4.878</td> <td> 0.000</td> <td>   -0.083</td> <td>   -0.035</td>\n",
       "</tr>\n",
       "<tr>\n",
       "  <th>2</th> <td>   -0.1209</td> <td>    0.013</td> <td>   -9.147</td> <td> 0.000</td> <td>   -0.147</td> <td>   -0.095</td>\n",
       "</tr>\n",
       "<tr>\n",
       "  <th>3</th> <td>   -0.1524</td> <td>    0.020</td> <td>   -7.669</td> <td> 0.000</td> <td>   -0.191</td> <td>   -0.113</td>\n",
       "</tr>\n",
       "</table>\n",
       "<table class=\"simpletable\">\n",
       "<tr>\n",
       "  <th>Omnibus:</th>       <td>233.276</td> <th>  Durbin-Watson:     </th> <td>   2.051</td>\n",
       "</tr>\n",
       "<tr>\n",
       "  <th>Prob(Omnibus):</th> <td> 0.000</td>  <th>  Jarque-Bera (JB):  </th> <td>5618.301</td>\n",
       "</tr>\n",
       "<tr>\n",
       "  <th>Skew:</th>          <td> 1.580</td>  <th>  Prob(JB):          </th> <td>    0.00</td>\n",
       "</tr>\n",
       "<tr>\n",
       "  <th>Kurtosis:</th>      <td>19.567</td>  <th>  Cond. No.          </th> <td>    1.90</td>\n",
       "</tr>\n",
       "</table><br/><br/>Notes:<br/>[1] R² is computed without centering (uncentered) since the model does not contain a constant.<br/>[2] Standard Errors assume that the covariance matrix of the errors is correctly specified."
      ],
      "text/latex": [
       "\\begin{center}\n",
       "\\begin{tabular}{lclc}\n",
       "\\toprule\n",
       "\\textbf{Dep. Variable:}    &        Y1        & \\textbf{  R-squared (uncentered):}      &     0.414   \\\\\n",
       "\\textbf{Model:}            &       OLS        & \\textbf{  Adj. R-squared (uncentered):} &     0.409   \\\\\n",
       "\\textbf{Method:}           &  Least Squares   & \\textbf{  F-statistic:       }          &     82.98   \\\\\n",
       "\\textbf{Date:}             & Sun, 21 Jan 2024 & \\textbf{  Prob (F-statistic):}          &  2.92e-53   \\\\\n",
       "\\textbf{Time:}             &     13:32:35     & \\textbf{  Log-Likelihood:    }          &   -1023.9   \\\\\n",
       "\\textbf{No. Observations:} &         474      & \\textbf{  AIC:               }          &     2056.   \\\\\n",
       "\\textbf{Df Residuals:}     &         470      & \\textbf{  BIC:               }          &     2072.   \\\\\n",
       "\\textbf{Df Model:}         &           4      & \\textbf{                     }          &             \\\\\n",
       "\\textbf{Covariance Type:}  &    nonrobust     & \\textbf{                     }          &             \\\\\n",
       "\\bottomrule\n",
       "\\end{tabular}\n",
       "\\begin{tabular}{lcccccc}\n",
       "           & \\textbf{coef} & \\textbf{std err} & \\textbf{t} & \\textbf{P$> |$t$|$} & \\textbf{[0.025} & \\textbf{0.975]}  \\\\\n",
       "\\midrule\n",
       "\\textbf{0} &      -0.1346  &        0.010     &   -12.870  &         0.000        &       -0.155    &       -0.114     \\\\\n",
       "\\textbf{1} &      -0.0592  &        0.012     &    -4.878  &         0.000        &       -0.083    &       -0.035     \\\\\n",
       "\\textbf{2} &      -0.1209  &        0.013     &    -9.147  &         0.000        &       -0.147    &       -0.095     \\\\\n",
       "\\textbf{3} &      -0.1524  &        0.020     &    -7.669  &         0.000        &       -0.191    &       -0.113     \\\\\n",
       "\\bottomrule\n",
       "\\end{tabular}\n",
       "\\begin{tabular}{lclc}\n",
       "\\textbf{Omnibus:}       & 233.276 & \\textbf{  Durbin-Watson:     } &    2.051  \\\\\n",
       "\\textbf{Prob(Omnibus):} &   0.000 & \\textbf{  Jarque-Bera (JB):  } & 5618.301  \\\\\n",
       "\\textbf{Skew:}          &   1.580 & \\textbf{  Prob(JB):          } &     0.00  \\\\\n",
       "\\textbf{Kurtosis:}      &  19.567 & \\textbf{  Cond. No.          } &     1.90  \\\\\n",
       "\\bottomrule\n",
       "\\end{tabular}\n",
       "%\\caption{OLS Regression Results}\n",
       "\\end{center}\n",
       "\n",
       "Notes: \\newline\n",
       " [1] R² is computed without centering (uncentered) since the model does not contain a constant. \\newline\n",
       " [2] Standard Errors assume that the covariance matrix of the errors is correctly specified."
      ],
      "text/plain": [
       "<class 'statsmodels.iolib.summary.Summary'>\n",
       "\"\"\"\n",
       "                                 OLS Regression Results                                \n",
       "=======================================================================================\n",
       "Dep. Variable:                     Y1   R-squared (uncentered):                   0.414\n",
       "Model:                            OLS   Adj. R-squared (uncentered):              0.409\n",
       "Method:                 Least Squares   F-statistic:                              82.98\n",
       "Date:                Sun, 21 Jan 2024   Prob (F-statistic):                    2.92e-53\n",
       "Time:                        13:32:35   Log-Likelihood:                         -1023.9\n",
       "No. Observations:                 474   AIC:                                      2056.\n",
       "Df Residuals:                     470   BIC:                                      2072.\n",
       "Df Model:                           4                                                  \n",
       "Covariance Type:            nonrobust                                                  \n",
       "==============================================================================\n",
       "                 coef    std err          t      P>|t|      [0.025      0.975]\n",
       "------------------------------------------------------------------------------\n",
       "0             -0.1346      0.010    -12.870      0.000      -0.155      -0.114\n",
       "1             -0.0592      0.012     -4.878      0.000      -0.083      -0.035\n",
       "2             -0.1209      0.013     -9.147      0.000      -0.147      -0.095\n",
       "3             -0.1524      0.020     -7.669      0.000      -0.191      -0.113\n",
       "==============================================================================\n",
       "Omnibus:                      233.276   Durbin-Watson:                   2.051\n",
       "Prob(Omnibus):                  0.000   Jarque-Bera (JB):             5618.301\n",
       "Skew:                           1.580   Prob(JB):                         0.00\n",
       "Kurtosis:                      19.567   Cond. No.                         1.90\n",
       "==============================================================================\n",
       "\n",
       "Notes:\n",
       "[1] R² is computed without centering (uncentered) since the model does not contain a constant.\n",
       "[2] Standard Errors assume that the covariance matrix of the errors is correctly specified.\n",
       "\"\"\""
      ]
     },
     "execution_count": 15,
     "metadata": {},
     "output_type": "execute_result"
    }
   ],
   "source": [
    "model_pca1 = sm.OLS(Y1_train, X_pca1).fit() \n",
    "model_pca1.summary() "
   ]
  },
  {
   "cell_type": "markdown",
   "metadata": {},
   "source": [
    "### LASSO"
   ]
  },
  {
   "cell_type": "code",
   "execution_count": 16,
   "metadata": {},
   "outputs": [],
   "source": [
    "lasso1 = Lasso(alpha=0.7) "
   ]
  },
  {
   "cell_type": "code",
   "execution_count": 17,
   "metadata": {},
   "outputs": [
    {
     "data": {
      "text/html": [
       "<style>#sk-container-id-1 {color: black;background-color: white;}#sk-container-id-1 pre{padding: 0;}#sk-container-id-1 div.sk-toggleable {background-color: white;}#sk-container-id-1 label.sk-toggleable__label {cursor: pointer;display: block;width: 100%;margin-bottom: 0;padding: 0.3em;box-sizing: border-box;text-align: center;}#sk-container-id-1 label.sk-toggleable__label-arrow:before {content: \"▸\";float: left;margin-right: 0.25em;color: #696969;}#sk-container-id-1 label.sk-toggleable__label-arrow:hover:before {color: black;}#sk-container-id-1 div.sk-estimator:hover label.sk-toggleable__label-arrow:before {color: black;}#sk-container-id-1 div.sk-toggleable__content {max-height: 0;max-width: 0;overflow: hidden;text-align: left;background-color: #f0f8ff;}#sk-container-id-1 div.sk-toggleable__content pre {margin: 0.2em;color: black;border-radius: 0.25em;background-color: #f0f8ff;}#sk-container-id-1 input.sk-toggleable__control:checked~div.sk-toggleable__content {max-height: 200px;max-width: 100%;overflow: auto;}#sk-container-id-1 input.sk-toggleable__control:checked~label.sk-toggleable__label-arrow:before {content: \"▾\";}#sk-container-id-1 div.sk-estimator input.sk-toggleable__control:checked~label.sk-toggleable__label {background-color: #d4ebff;}#sk-container-id-1 div.sk-label input.sk-toggleable__control:checked~label.sk-toggleable__label {background-color: #d4ebff;}#sk-container-id-1 input.sk-hidden--visually {border: 0;clip: rect(1px 1px 1px 1px);clip: rect(1px, 1px, 1px, 1px);height: 1px;margin: -1px;overflow: hidden;padding: 0;position: absolute;width: 1px;}#sk-container-id-1 div.sk-estimator {font-family: monospace;background-color: #f0f8ff;border: 1px dotted black;border-radius: 0.25em;box-sizing: border-box;margin-bottom: 0.5em;}#sk-container-id-1 div.sk-estimator:hover {background-color: #d4ebff;}#sk-container-id-1 div.sk-parallel-item::after {content: \"\";width: 100%;border-bottom: 1px solid gray;flex-grow: 1;}#sk-container-id-1 div.sk-label:hover label.sk-toggleable__label {background-color: #d4ebff;}#sk-container-id-1 div.sk-serial::before {content: \"\";position: absolute;border-left: 1px solid gray;box-sizing: border-box;top: 0;bottom: 0;left: 50%;z-index: 0;}#sk-container-id-1 div.sk-serial {display: flex;flex-direction: column;align-items: center;background-color: white;padding-right: 0.2em;padding-left: 0.2em;position: relative;}#sk-container-id-1 div.sk-item {position: relative;z-index: 1;}#sk-container-id-1 div.sk-parallel {display: flex;align-items: stretch;justify-content: center;background-color: white;position: relative;}#sk-container-id-1 div.sk-item::before, #sk-container-id-1 div.sk-parallel-item::before {content: \"\";position: absolute;border-left: 1px solid gray;box-sizing: border-box;top: 0;bottom: 0;left: 50%;z-index: -1;}#sk-container-id-1 div.sk-parallel-item {display: flex;flex-direction: column;z-index: 1;position: relative;background-color: white;}#sk-container-id-1 div.sk-parallel-item:first-child::after {align-self: flex-end;width: 50%;}#sk-container-id-1 div.sk-parallel-item:last-child::after {align-self: flex-start;width: 50%;}#sk-container-id-1 div.sk-parallel-item:only-child::after {width: 0;}#sk-container-id-1 div.sk-dashed-wrapped {border: 1px dashed gray;margin: 0 0.4em 0.5em 0.4em;box-sizing: border-box;padding-bottom: 0.4em;background-color: white;}#sk-container-id-1 div.sk-label label {font-family: monospace;font-weight: bold;display: inline-block;line-height: 1.2em;}#sk-container-id-1 div.sk-label-container {text-align: center;}#sk-container-id-1 div.sk-container {/* jupyter's `normalize.less` sets `[hidden] { display: none; }` but bootstrap.min.css set `[hidden] { display: none !important; }` so we also need the `!important` here to be able to override the default hidden behavior on the sphinx rendered scikit-learn.org. See: https://github.com/scikit-learn/scikit-learn/issues/21755 */display: inline-block !important;position: relative;}#sk-container-id-1 div.sk-text-repr-fallback {display: none;}</style><div id=\"sk-container-id-1\" class=\"sk-top-container\"><div class=\"sk-text-repr-fallback\"><pre>Lasso(alpha=0.7)</pre><b>In a Jupyter environment, please rerun this cell to show the HTML representation or trust the notebook. <br />On GitHub, the HTML representation is unable to render, please try loading this page with nbviewer.org.</b></div><div class=\"sk-container\" hidden><div class=\"sk-item\"><div class=\"sk-estimator sk-toggleable\"><input class=\"sk-toggleable__control sk-hidden--visually\" id=\"sk-estimator-id-1\" type=\"checkbox\" checked><label for=\"sk-estimator-id-1\" class=\"sk-toggleable__label sk-toggleable__label-arrow\">Lasso</label><div class=\"sk-toggleable__content\"><pre>Lasso(alpha=0.7)</pre></div></div></div></div></div>"
      ],
      "text/plain": [
       "Lasso(alpha=0.7)"
      ]
     },
     "execution_count": 17,
     "metadata": {},
     "output_type": "execute_result"
    }
   ],
   "source": [
    "lasso1.fit(X_train_scaled_Y1, Y1_train) "
   ]
  },
  {
   "cell_type": "code",
   "execution_count": 18,
   "metadata": {},
   "outputs": [],
   "source": [
    "coefficients_Y1 = lasso1.coef_\n",
    "features_Y1 = X.columns\n",
    "feature_coefficients_Y1 = pd.DataFrame(list(zip(features_Y1, coefficients_Y1)), columns=['Feature', 'Coefficient']).set_index('Feature')\n",
    "feature_coefficients_Y1 = feature_coefficients_Y1.replace(0, np.nan).dropna(how='all')"
   ]
  },
  {
   "cell_type": "code",
   "execution_count": 19,
   "metadata": {},
   "outputs": [
    {
     "data": {
      "text/html": [
       "<div>\n",
       "<style scoped>\n",
       "    .dataframe tbody tr th:only-of-type {\n",
       "        vertical-align: middle;\n",
       "    }\n",
       "\n",
       "    .dataframe tbody tr th {\n",
       "        vertical-align: top;\n",
       "    }\n",
       "\n",
       "    .dataframe thead th {\n",
       "        text-align: right;\n",
       "    }\n",
       "</style>\n",
       "<table border=\"1\" class=\"dataframe\">\n",
       "  <thead>\n",
       "    <tr style=\"text-align: right;\">\n",
       "      <th></th>\n",
       "      <th>Coefficient</th>\n",
       "    </tr>\n",
       "    <tr>\n",
       "      <th>Feature</th>\n",
       "      <th></th>\n",
       "    </tr>\n",
       "  </thead>\n",
       "  <tbody>\n",
       "    <tr>\n",
       "      <th>X129</th>\n",
       "      <td>-0.163393</td>\n",
       "    </tr>\n",
       "    <tr>\n",
       "      <th>X202</th>\n",
       "      <td>0.047588</td>\n",
       "    </tr>\n",
       "    <tr>\n",
       "      <th>X204</th>\n",
       "      <td>0.314638</td>\n",
       "    </tr>\n",
       "    <tr>\n",
       "      <th>X224</th>\n",
       "      <td>0.943346</td>\n",
       "    </tr>\n",
       "    <tr>\n",
       "      <th>X245</th>\n",
       "      <td>-0.044056</td>\n",
       "    </tr>\n",
       "  </tbody>\n",
       "</table>\n",
       "</div>"
      ],
      "text/plain": [
       "         Coefficient\n",
       "Feature             \n",
       "X129       -0.163393\n",
       "X202        0.047588\n",
       "X204        0.314638\n",
       "X224        0.943346\n",
       "X245       -0.044056"
      ]
     },
     "execution_count": 19,
     "metadata": {},
     "output_type": "execute_result"
    }
   ],
   "source": [
    "feature_coefficients_Y1 "
   ]
  },
  {
   "cell_type": "code",
   "execution_count": 20,
   "metadata": {},
   "outputs": [],
   "source": [
    "selected1 = feature_coefficients_Y1.index.to_list() "
   ]
  },
  {
   "cell_type": "code",
   "execution_count": 21,
   "metadata": {},
   "outputs": [],
   "source": [
    "X_train_new1 = X_train_Y1[selected1]\n",
    "X_test_new1 = X_test_Y1[selected1]"
   ]
  },
  {
   "cell_type": "code",
   "execution_count": 22,
   "metadata": {},
   "outputs": [],
   "source": [
    "model_lasso_in1 = sm.OLS(Y1_train,X_train_new1).fit() "
   ]
  },
  {
   "cell_type": "code",
   "execution_count": 23,
   "metadata": {},
   "outputs": [
    {
     "data": {
      "text/html": [
       "<table class=\"simpletable\">\n",
       "<caption>OLS Regression Results</caption>\n",
       "<tr>\n",
       "  <th>Dep. Variable:</th>           <td>Y1</td>        <th>  R-squared (uncentered):</th>      <td>   0.630</td>\n",
       "</tr>\n",
       "<tr>\n",
       "  <th>Model:</th>                   <td>OLS</td>       <th>  Adj. R-squared (uncentered):</th> <td>   0.626</td>\n",
       "</tr>\n",
       "<tr>\n",
       "  <th>Method:</th>             <td>Least Squares</td>  <th>  F-statistic:       </th>          <td>   159.4</td>\n",
       "</tr>\n",
       "<tr>\n",
       "  <th>Date:</th>             <td>Sun, 21 Jan 2024</td> <th>  Prob (F-statistic):</th>          <td>9.95e-99</td>\n",
       "</tr>\n",
       "<tr>\n",
       "  <th>Time:</th>                 <td>13:32:36</td>     <th>  Log-Likelihood:    </th>          <td> -915.13</td>\n",
       "</tr>\n",
       "<tr>\n",
       "  <th>No. Observations:</th>      <td>   474</td>      <th>  AIC:               </th>          <td>   1840.</td>\n",
       "</tr>\n",
       "<tr>\n",
       "  <th>Df Residuals:</th>          <td>   469</td>      <th>  BIC:               </th>          <td>   1861.</td>\n",
       "</tr>\n",
       "<tr>\n",
       "  <th>Df Model:</th>              <td>     5</td>      <th>                     </th>              <td> </td>   \n",
       "</tr>\n",
       "<tr>\n",
       "  <th>Covariance Type:</th>      <td>nonrobust</td>    <th>                     </th>              <td> </td>   \n",
       "</tr>\n",
       "</table>\n",
       "<table class=\"simpletable\">\n",
       "<tr>\n",
       "    <td></td>      <th>coef</th>     <th>std err</th>      <th>t</th>      <th>P>|t|</th>  <th>[0.025</th>    <th>0.975]</th>  \n",
       "</tr>\n",
       "<tr>\n",
       "  <th>X129</th> <td>  -63.0003</td> <td>   43.914</td> <td>   -1.435</td> <td> 0.152</td> <td> -149.292</td> <td>   23.292</td>\n",
       "</tr>\n",
       "<tr>\n",
       "  <th>X202</th> <td>    0.0245</td> <td>    0.018</td> <td>    1.399</td> <td> 0.162</td> <td>   -0.010</td> <td>    0.059</td>\n",
       "</tr>\n",
       "<tr>\n",
       "  <th>X204</th> <td>    0.0540</td> <td>    0.029</td> <td>    1.833</td> <td> 0.067</td> <td>   -0.004</td> <td>    0.112</td>\n",
       "</tr>\n",
       "<tr>\n",
       "  <th>X224</th> <td>    0.3629</td> <td>    0.056</td> <td>    6.528</td> <td> 0.000</td> <td>    0.254</td> <td>    0.472</td>\n",
       "</tr>\n",
       "<tr>\n",
       "  <th>X245</th> <td>  -23.4289</td> <td>    7.459</td> <td>   -3.141</td> <td> 0.002</td> <td>  -38.086</td> <td>   -8.772</td>\n",
       "</tr>\n",
       "</table>\n",
       "<table class=\"simpletable\">\n",
       "<tr>\n",
       "  <th>Omnibus:</th>       <td>267.746</td> <th>  Durbin-Watson:     </th> <td>   2.042</td>\n",
       "</tr>\n",
       "<tr>\n",
       "  <th>Prob(Omnibus):</th> <td> 0.000</td>  <th>  Jarque-Bera (JB):  </th> <td>4338.477</td>\n",
       "</tr>\n",
       "<tr>\n",
       "  <th>Skew:</th>          <td> 2.078</td>  <th>  Prob(JB):          </th> <td>    0.00</td>\n",
       "</tr>\n",
       "<tr>\n",
       "  <th>Kurtosis:</th>      <td>17.227</td>  <th>  Cond. No.          </th> <td>8.50e+03</td>\n",
       "</tr>\n",
       "</table><br/><br/>Notes:<br/>[1] R² is computed without centering (uncentered) since the model does not contain a constant.<br/>[2] Standard Errors assume that the covariance matrix of the errors is correctly specified.<br/>[3] The condition number is large, 8.5e+03. This might indicate that there are<br/>strong multicollinearity or other numerical problems."
      ],
      "text/latex": [
       "\\begin{center}\n",
       "\\begin{tabular}{lclc}\n",
       "\\toprule\n",
       "\\textbf{Dep. Variable:}    &        Y1        & \\textbf{  R-squared (uncentered):}      &     0.630   \\\\\n",
       "\\textbf{Model:}            &       OLS        & \\textbf{  Adj. R-squared (uncentered):} &     0.626   \\\\\n",
       "\\textbf{Method:}           &  Least Squares   & \\textbf{  F-statistic:       }          &     159.4   \\\\\n",
       "\\textbf{Date:}             & Sun, 21 Jan 2024 & \\textbf{  Prob (F-statistic):}          &  9.95e-99   \\\\\n",
       "\\textbf{Time:}             &     13:32:36     & \\textbf{  Log-Likelihood:    }          &   -915.13   \\\\\n",
       "\\textbf{No. Observations:} &         474      & \\textbf{  AIC:               }          &     1840.   \\\\\n",
       "\\textbf{Df Residuals:}     &         469      & \\textbf{  BIC:               }          &     1861.   \\\\\n",
       "\\textbf{Df Model:}         &           5      & \\textbf{                     }          &             \\\\\n",
       "\\textbf{Covariance Type:}  &    nonrobust     & \\textbf{                     }          &             \\\\\n",
       "\\bottomrule\n",
       "\\end{tabular}\n",
       "\\begin{tabular}{lcccccc}\n",
       "              & \\textbf{coef} & \\textbf{std err} & \\textbf{t} & \\textbf{P$> |$t$|$} & \\textbf{[0.025} & \\textbf{0.975]}  \\\\\n",
       "\\midrule\n",
       "\\textbf{X129} &     -63.0003  &       43.914     &    -1.435  &         0.152        &     -149.292    &       23.292     \\\\\n",
       "\\textbf{X202} &       0.0245  &        0.018     &     1.399  &         0.162        &       -0.010    &        0.059     \\\\\n",
       "\\textbf{X204} &       0.0540  &        0.029     &     1.833  &         0.067        &       -0.004    &        0.112     \\\\\n",
       "\\textbf{X224} &       0.3629  &        0.056     &     6.528  &         0.000        &        0.254    &        0.472     \\\\\n",
       "\\textbf{X245} &     -23.4289  &        7.459     &    -3.141  &         0.002        &      -38.086    &       -8.772     \\\\\n",
       "\\bottomrule\n",
       "\\end{tabular}\n",
       "\\begin{tabular}{lclc}\n",
       "\\textbf{Omnibus:}       & 267.746 & \\textbf{  Durbin-Watson:     } &    2.042  \\\\\n",
       "\\textbf{Prob(Omnibus):} &   0.000 & \\textbf{  Jarque-Bera (JB):  } & 4338.477  \\\\\n",
       "\\textbf{Skew:}          &   2.078 & \\textbf{  Prob(JB):          } &     0.00  \\\\\n",
       "\\textbf{Kurtosis:}      &  17.227 & \\textbf{  Cond. No.          } & 8.50e+03  \\\\\n",
       "\\bottomrule\n",
       "\\end{tabular}\n",
       "%\\caption{OLS Regression Results}\n",
       "\\end{center}\n",
       "\n",
       "Notes: \\newline\n",
       " [1] R² is computed without centering (uncentered) since the model does not contain a constant. \\newline\n",
       " [2] Standard Errors assume that the covariance matrix of the errors is correctly specified. \\newline\n",
       " [3] The condition number is large, 8.5e+03. This might indicate that there are \\newline\n",
       " strong multicollinearity or other numerical problems."
      ],
      "text/plain": [
       "<class 'statsmodels.iolib.summary.Summary'>\n",
       "\"\"\"\n",
       "                                 OLS Regression Results                                \n",
       "=======================================================================================\n",
       "Dep. Variable:                     Y1   R-squared (uncentered):                   0.630\n",
       "Model:                            OLS   Adj. R-squared (uncentered):              0.626\n",
       "Method:                 Least Squares   F-statistic:                              159.4\n",
       "Date:                Sun, 21 Jan 2024   Prob (F-statistic):                    9.95e-99\n",
       "Time:                        13:32:36   Log-Likelihood:                         -915.13\n",
       "No. Observations:                 474   AIC:                                      1840.\n",
       "Df Residuals:                     469   BIC:                                      1861.\n",
       "Df Model:                           5                                                  \n",
       "Covariance Type:            nonrobust                                                  \n",
       "==============================================================================\n",
       "                 coef    std err          t      P>|t|      [0.025      0.975]\n",
       "------------------------------------------------------------------------------\n",
       "X129         -63.0003     43.914     -1.435      0.152    -149.292      23.292\n",
       "X202           0.0245      0.018      1.399      0.162      -0.010       0.059\n",
       "X204           0.0540      0.029      1.833      0.067      -0.004       0.112\n",
       "X224           0.3629      0.056      6.528      0.000       0.254       0.472\n",
       "X245         -23.4289      7.459     -3.141      0.002     -38.086      -8.772\n",
       "==============================================================================\n",
       "Omnibus:                      267.746   Durbin-Watson:                   2.042\n",
       "Prob(Omnibus):                  0.000   Jarque-Bera (JB):             4338.477\n",
       "Skew:                           2.078   Prob(JB):                         0.00\n",
       "Kurtosis:                      17.227   Cond. No.                     8.50e+03\n",
       "==============================================================================\n",
       "\n",
       "Notes:\n",
       "[1] R² is computed without centering (uncentered) since the model does not contain a constant.\n",
       "[2] Standard Errors assume that the covariance matrix of the errors is correctly specified.\n",
       "[3] The condition number is large, 8.5e+03. This might indicate that there are\n",
       "strong multicollinearity or other numerical problems.\n",
       "\"\"\""
      ]
     },
     "execution_count": 23,
     "metadata": {},
     "output_type": "execute_result"
    }
   ],
   "source": [
    "model_lasso_in1.summary() "
   ]
  },
  {
   "cell_type": "code",
   "execution_count": 24,
   "metadata": {},
   "outputs": [],
   "source": [
    "pred1 = model_lasso_in1.predict(X_test_new1)"
   ]
  },
  {
   "cell_type": "code",
   "execution_count": 25,
   "metadata": {},
   "outputs": [
    {
     "name": "stdout",
     "output_type": "stream",
     "text": [
      "Mean Squared Error: 2.4883504\n"
     ]
    }
   ],
   "source": [
    "mse1 = mean_squared_error(Y1_test, pred1)\n",
    "print(\"Mean Squared Error:\", mse1)"
   ]
  },
  {
   "cell_type": "code",
   "execution_count": 26,
   "metadata": {},
   "outputs": [
    {
     "data": {
      "text/plain": [
       "<matplotlib.collections.PathCollection at 0x7ff1d3a293d0>"
      ]
     },
     "execution_count": 26,
     "metadata": {},
     "output_type": "execute_result"
    },
    {
     "data": {
      "image/png": "[encoded data removed]",
      "text/plain": [
       "<Figure size 640x480 with 1 Axes>"
      ]
     },
     "metadata": {},
     "output_type": "display_data"
    }
   ],
   "source": [
    "plt.scatter(Y1_test, pred1)"
   ]
  },
  {
   "cell_type": "code",
   "execution_count": 27,
   "metadata": {},
   "outputs": [
    {
     "name": "stdout",
     "output_type": "stream",
     "text": [
      "Out of Sample R-Sqaured: -64.85734230985501\n"
     ]
    }
   ],
   "source": [
    "oos_r2_1 = 1 - sum((Y1_test-pred1)**2)/Y1_test.var()\n",
    "print(\"Out of Sample R-Sqaured:\", oos_r2_1)"
   ]
  },
  {
   "cell_type": "markdown",
   "metadata": {},
   "source": [
    "## Tuning Y2"
   ]
  },
  {
   "cell_type": "markdown",
   "metadata": {},
   "source": [
    "### PCA"
   ]
  },
  {
   "cell_type": "code",
   "execution_count": 28,
   "metadata": {},
   "outputs": [],
   "source": [
    "X_pca2 = pd.DataFrame(pca.fit_transform(X_train_scaled_Y2), index=X_train_Y2.index) \n",
    "explained_variance2 = pca.explained_variance_ratio_"
   ]
  },
  {
   "cell_type": "code",
   "execution_count": 29,
   "metadata": {},
   "outputs": [
    {
     "data": {
      "text/plain": [
       "array([0.22842221, 0.16981015, 0.14296457, 0.06324006], dtype=float32)"
      ]
     },
     "execution_count": 29,
     "metadata": {},
     "output_type": "execute_result"
    }
   ],
   "source": [
    "explained_variance2"
   ]
  },
  {
   "cell_type": "code",
   "execution_count": 30,
   "metadata": {},
   "outputs": [
    {
     "data": {
      "text/plain": [
       "0.6044369861483574"
      ]
     },
     "execution_count": 30,
     "metadata": {},
     "output_type": "execute_result"
    }
   ],
   "source": [
    "sum(explained_variance2)"
   ]
  },
  {
   "cell_type": "code",
   "execution_count": 31,
   "metadata": {},
   "outputs": [
    {
     "data": {
      "text/html": [
       "<table class=\"simpletable\">\n",
       "<caption>OLS Regression Results</caption>\n",
       "<tr>\n",
       "  <th>Dep. Variable:</th>           <td>Y2</td>        <th>  R-squared (uncentered):</th>      <td>   0.414</td>\n",
       "</tr>\n",
       "<tr>\n",
       "  <th>Model:</th>                   <td>OLS</td>       <th>  Adj. R-squared (uncentered):</th> <td>   0.409</td>\n",
       "</tr>\n",
       "<tr>\n",
       "  <th>Method:</th>             <td>Least Squares</td>  <th>  F-statistic:       </th>          <td>   83.13</td>\n",
       "</tr>\n",
       "<tr>\n",
       "  <th>Date:</th>             <td>Sun, 21 Jan 2024</td> <th>  Prob (F-statistic):</th>          <td>2.44e-53</td>\n",
       "</tr>\n",
       "<tr>\n",
       "  <th>Time:</th>                 <td>13:32:36</td>     <th>  Log-Likelihood:    </th>          <td> -1130.1</td>\n",
       "</tr>\n",
       "<tr>\n",
       "  <th>No. Observations:</th>      <td>   474</td>      <th>  AIC:               </th>          <td>   2268.</td>\n",
       "</tr>\n",
       "<tr>\n",
       "  <th>Df Residuals:</th>          <td>   470</td>      <th>  BIC:               </th>          <td>   2285.</td>\n",
       "</tr>\n",
       "<tr>\n",
       "  <th>Df Model:</th>              <td>     4</td>      <th>                     </th>              <td> </td>   \n",
       "</tr>\n",
       "<tr>\n",
       "  <th>Covariance Type:</th>      <td>nonrobust</td>    <th>                     </th>              <td> </td>   \n",
       "</tr>\n",
       "</table>\n",
       "<table class=\"simpletable\">\n",
       "<tr>\n",
       "  <td></td>     <th>coef</th>     <th>std err</th>      <th>t</th>      <th>P>|t|</th>  <th>[0.025</th>    <th>0.975]</th>  \n",
       "</tr>\n",
       "<tr>\n",
       "  <th>0</th> <td>   -0.1823</td> <td>    0.013</td> <td>  -13.935</td> <td> 0.000</td> <td>   -0.208</td> <td>   -0.157</td>\n",
       "</tr>\n",
       "<tr>\n",
       "  <th>1</th> <td>   -0.0667</td> <td>    0.015</td> <td>   -4.393</td> <td> 0.000</td> <td>   -0.096</td> <td>   -0.037</td>\n",
       "</tr>\n",
       "<tr>\n",
       "  <th>2</th> <td>   -0.1184</td> <td>    0.017</td> <td>   -7.161</td> <td> 0.000</td> <td>   -0.151</td> <td>   -0.086</td>\n",
       "</tr>\n",
       "<tr>\n",
       "  <th>3</th> <td>   -0.2047</td> <td>    0.025</td> <td>   -8.233</td> <td> 0.000</td> <td>   -0.254</td> <td>   -0.156</td>\n",
       "</tr>\n",
       "</table>\n",
       "<table class=\"simpletable\">\n",
       "<tr>\n",
       "  <th>Omnibus:</th>       <td>199.292</td> <th>  Durbin-Watson:     </th> <td>   1.950</td>\n",
       "</tr>\n",
       "<tr>\n",
       "  <th>Prob(Omnibus):</th> <td> 0.000</td>  <th>  Jarque-Bera (JB):  </th> <td>3897.363</td>\n",
       "</tr>\n",
       "<tr>\n",
       "  <th>Skew:</th>          <td> 1.314</td>  <th>  Prob(JB):          </th> <td>    0.00</td>\n",
       "</tr>\n",
       "<tr>\n",
       "  <th>Kurtosis:</th>      <td>16.800</td>  <th>  Cond. No.          </th> <td>    1.90</td>\n",
       "</tr>\n",
       "</table><br/><br/>Notes:<br/>[1] R² is computed without centering (uncentered) since the model does not contain a constant.<br/>[2] Standard Errors assume that the covariance matrix of the errors is correctly specified."
      ],
      "text/latex": [
       "\\begin{center}\n",
       "\\begin{tabular}{lclc}\n",
       "\\toprule\n",
       "\\textbf{Dep. Variable:}    &        Y2        & \\textbf{  R-squared (uncentered):}      &     0.414   \\\\\n",
       "\\textbf{Model:}            &       OLS        & \\textbf{  Adj. R-squared (uncentered):} &     0.409   \\\\\n",
       "\\textbf{Method:}           &  Least Squares   & \\textbf{  F-statistic:       }          &     83.13   \\\\\n",
       "\\textbf{Date:}             & Sun, 21 Jan 2024 & \\textbf{  Prob (F-statistic):}          &  2.44e-53   \\\\\n",
       "\\textbf{Time:}             &     13:32:36     & \\textbf{  Log-Likelihood:    }          &   -1130.1   \\\\\n",
       "\\textbf{No. Observations:} &         474      & \\textbf{  AIC:               }          &     2268.   \\\\\n",
       "\\textbf{Df Residuals:}     &         470      & \\textbf{  BIC:               }          &     2285.   \\\\\n",
       "\\textbf{Df Model:}         &           4      & \\textbf{                     }          &             \\\\\n",
       "\\textbf{Covariance Type:}  &    nonrobust     & \\textbf{                     }          &             \\\\\n",
       "\\bottomrule\n",
       "\\end{tabular}\n",
       "\\begin{tabular}{lcccccc}\n",
       "           & \\textbf{coef} & \\textbf{std err} & \\textbf{t} & \\textbf{P$> |$t$|$} & \\textbf{[0.025} & \\textbf{0.975]}  \\\\\n",
       "\\midrule\n",
       "\\textbf{0} &      -0.1823  &        0.013     &   -13.935  &         0.000        &       -0.208    &       -0.157     \\\\\n",
       "\\textbf{1} &      -0.0667  &        0.015     &    -4.393  &         0.000        &       -0.096    &       -0.037     \\\\\n",
       "\\textbf{2} &      -0.1184  &        0.017     &    -7.161  &         0.000        &       -0.151    &       -0.086     \\\\\n",
       "\\textbf{3} &      -0.2047  &        0.025     &    -8.233  &         0.000        &       -0.254    &       -0.156     \\\\\n",
       "\\bottomrule\n",
       "\\end{tabular}\n",
       "\\begin{tabular}{lclc}\n",
       "\\textbf{Omnibus:}       & 199.292 & \\textbf{  Durbin-Watson:     } &    1.950  \\\\\n",
       "\\textbf{Prob(Omnibus):} &   0.000 & \\textbf{  Jarque-Bera (JB):  } & 3897.363  \\\\\n",
       "\\textbf{Skew:}          &   1.314 & \\textbf{  Prob(JB):          } &     0.00  \\\\\n",
       "\\textbf{Kurtosis:}      &  16.800 & \\textbf{  Cond. No.          } &     1.90  \\\\\n",
       "\\bottomrule\n",
       "\\end{tabular}\n",
       "%\\caption{OLS Regression Results}\n",
       "\\end{center}\n",
       "\n",
       "Notes: \\newline\n",
       " [1] R² is computed without centering (uncentered) since the model does not contain a constant. \\newline\n",
       " [2] Standard Errors assume that the covariance matrix of the errors is correctly specified."
      ],
      "text/plain": [
       "<class 'statsmodels.iolib.summary.Summary'>\n",
       "\"\"\"\n",
       "                                 OLS Regression Results                                \n",
       "=======================================================================================\n",
       "Dep. Variable:                     Y2   R-squared (uncentered):                   0.414\n",
       "Model:                            OLS   Adj. R-squared (uncentered):              0.409\n",
       "Method:                 Least Squares   F-statistic:                              83.13\n",
       "Date:                Sun, 21 Jan 2024   Prob (F-statistic):                    2.44e-53\n",
       "Time:                        13:32:36   Log-Likelihood:                         -1130.1\n",
       "No. Observations:                 474   AIC:                                      2268.\n",
       "Df Residuals:                     470   BIC:                                      2285.\n",
       "Df Model:                           4                                                  \n",
       "Covariance Type:            nonrobust                                                  \n",
       "==============================================================================\n",
       "                 coef    std err          t      P>|t|      [0.025      0.975]\n",
       "------------------------------------------------------------------------------\n",
       "0             -0.1823      0.013    -13.935      0.000      -0.208      -0.157\n",
       "1             -0.0667      0.015     -4.393      0.000      -0.096      -0.037\n",
       "2             -0.1184      0.017     -7.161      0.000      -0.151      -0.086\n",
       "3             -0.2047      0.025     -8.233      0.000      -0.254      -0.156\n",
       "==============================================================================\n",
       "Omnibus:                      199.292   Durbin-Watson:                   1.950\n",
       "Prob(Omnibus):                  0.000   Jarque-Bera (JB):             3897.363\n",
       "Skew:                           1.314   Prob(JB):                         0.00\n",
       "Kurtosis:                      16.800   Cond. No.                         1.90\n",
       "==============================================================================\n",
       "\n",
       "Notes:\n",
       "[1] R² is computed without centering (uncentered) since the model does not contain a constant.\n",
       "[2] Standard Errors assume that the covariance matrix of the errors is correctly specified.\n",
       "\"\"\""
      ]
     },
     "execution_count": 31,
     "metadata": {},
     "output_type": "execute_result"
    }
   ],
   "source": [
    "model_pca2 = sm.OLS(Y2_train, X_pca2).fit() \n",
    "model_pca2.summary() "
   ]
  },
  {
   "cell_type": "markdown",
   "metadata": {},
   "source": [
    "### LASSO"
   ]
  },
  {
   "cell_type": "code",
   "execution_count": 32,
   "metadata": {},
   "outputs": [],
   "source": [
    "lasso2 = Lasso(alpha=0.8) "
   ]
  },
  {
   "cell_type": "code",
   "execution_count": 33,
   "metadata": {},
   "outputs": [
    {
     "data": {
      "text/html": [
       "<style>#sk-container-id-2 {color: black;background-color: white;}#sk-container-id-2 pre{padding: 0;}#sk-container-id-2 div.sk-toggleable {background-color: white;}#sk-container-id-2 label.sk-toggleable__label {cursor: pointer;display: block;width: 100%;margin-bottom: 0;padding: 0.3em;box-sizing: border-box;text-align: center;}#sk-container-id-2 label.sk-toggleable__label-arrow:before {content: \"▸\";float: left;margin-right: 0.25em;color: #696969;}#sk-container-id-2 label.sk-toggleable__label-arrow:hover:before {color: black;}#sk-container-id-2 div.sk-estimator:hover label.sk-toggleable__label-arrow:before {color: black;}#sk-container-id-2 div.sk-toggleable__content {max-height: 0;max-width: 0;overflow: hidden;text-align: left;background-color: #f0f8ff;}#sk-container-id-2 div.sk-toggleable__content pre {margin: 0.2em;color: black;border-radius: 0.25em;background-color: #f0f8ff;}#sk-container-id-2 input.sk-toggleable__control:checked~div.sk-toggleable__content {max-height: 200px;max-width: 100%;overflow: auto;}#sk-container-id-2 input.sk-toggleable__control:checked~label.sk-toggleable__label-arrow:before {content: \"▾\";}#sk-container-id-2 div.sk-estimator input.sk-toggleable__control:checked~label.sk-toggleable__label {background-color: #d4ebff;}#sk-container-id-2 div.sk-label input.sk-toggleable__control:checked~label.sk-toggleable__label {background-color: #d4ebff;}#sk-container-id-2 input.sk-hidden--visually {border: 0;clip: rect(1px 1px 1px 1px);clip: rect(1px, 1px, 1px, 1px);height: 1px;margin: -1px;overflow: hidden;padding: 0;position: absolute;width: 1px;}#sk-container-id-2 div.sk-estimator {font-family: monospace;background-color: #f0f8ff;border: 1px dotted black;border-radius: 0.25em;box-sizing: border-box;margin-bottom: 0.5em;}#sk-container-id-2 div.sk-estimator:hover {background-color: #d4ebff;}#sk-container-id-2 div.sk-parallel-item::after {content: \"\";width: 100%;border-bottom: 1px solid gray;flex-grow: 1;}#sk-container-id-2 div.sk-label:hover label.sk-toggleable__label {background-color: #d4ebff;}#sk-container-id-2 div.sk-serial::before {content: \"\";position: absolute;border-left: 1px solid gray;box-sizing: border-box;top: 0;bottom: 0;left: 50%;z-index: 0;}#sk-container-id-2 div.sk-serial {display: flex;flex-direction: column;align-items: center;background-color: white;padding-right: 0.2em;padding-left: 0.2em;position: relative;}#sk-container-id-2 div.sk-item {position: relative;z-index: 1;}#sk-container-id-2 div.sk-parallel {display: flex;align-items: stretch;justify-content: center;background-color: white;position: relative;}#sk-container-id-2 div.sk-item::before, #sk-container-id-2 div.sk-parallel-item::before {content: \"\";position: absolute;border-left: 1px solid gray;box-sizing: border-box;top: 0;bottom: 0;left: 50%;z-index: -1;}#sk-container-id-2 div.sk-parallel-item {display: flex;flex-direction: column;z-index: 1;position: relative;background-color: white;}#sk-container-id-2 div.sk-parallel-item:first-child::after {align-self: flex-end;width: 50%;}#sk-container-id-2 div.sk-parallel-item:last-child::after {align-self: flex-start;width: 50%;}#sk-container-id-2 div.sk-parallel-item:only-child::after {width: 0;}#sk-container-id-2 div.sk-dashed-wrapped {border: 1px dashed gray;margin: 0 0.4em 0.5em 0.4em;box-sizing: border-box;padding-bottom: 0.4em;background-color: white;}#sk-container-id-2 div.sk-label label {font-family: monospace;font-weight: bold;display: inline-block;line-height: 1.2em;}#sk-container-id-2 div.sk-label-container {text-align: center;}#sk-container-id-2 div.sk-container {/* jupyter's `normalize.less` sets `[hidden] { display: none; }` but bootstrap.min.css set `[hidden] { display: none !important; }` so we also need the `!important` here to be able to override the default hidden behavior on the sphinx rendered scikit-learn.org. See: https://github.com/scikit-learn/scikit-learn/issues/21755 */display: inline-block !important;position: relative;}#sk-container-id-2 div.sk-text-repr-fallback {display: none;}</style><div id=\"sk-container-id-2\" class=\"sk-top-container\"><div class=\"sk-text-repr-fallback\"><pre>Lasso(alpha=0.8)</pre><b>In a Jupyter environment, please rerun this cell to show the HTML representation or trust the notebook. <br />On GitHub, the HTML representation is unable to render, please try loading this page with nbviewer.org.</b></div><div class=\"sk-container\" hidden><div class=\"sk-item\"><div class=\"sk-estimator sk-toggleable\"><input class=\"sk-toggleable__control sk-hidden--visually\" id=\"sk-estimator-id-2\" type=\"checkbox\" checked><label for=\"sk-estimator-id-2\" class=\"sk-toggleable__label sk-toggleable__label-arrow\">Lasso</label><div class=\"sk-toggleable__content\"><pre>Lasso(alpha=0.8)</pre></div></div></div></div></div>"
      ],
      "text/plain": [
       "Lasso(alpha=0.8)"
      ]
     },
     "execution_count": 33,
     "metadata": {},
     "output_type": "execute_result"
    }
   ],
   "source": [
    "lasso2.fit(X_train_scaled_Y2, Y2_train) "
   ]
  },
  {
   "cell_type": "code",
   "execution_count": 34,
   "metadata": {},
   "outputs": [],
   "source": [
    "coefficients_Y2 = lasso2.coef_\n",
    "features_Y2 = X.columns\n",
    "feature_coefficients_Y2 = pd.DataFrame(list(zip(features_Y2, coefficients_Y2)), columns=['Feature', 'Coefficient']).set_index('Feature')\n",
    "feature_coefficients_Y2 = feature_coefficients_Y2.replace(0, np.nan).dropna(how='all')"
   ]
  },
  {
   "cell_type": "code",
   "execution_count": 35,
   "metadata": {},
   "outputs": [
    {
     "data": {
      "text/html": [
       "<div>\n",
       "<style scoped>\n",
       "    .dataframe tbody tr th:only-of-type {\n",
       "        vertical-align: middle;\n",
       "    }\n",
       "\n",
       "    .dataframe tbody tr th {\n",
       "        vertical-align: top;\n",
       "    }\n",
       "\n",
       "    .dataframe thead th {\n",
       "        text-align: right;\n",
       "    }\n",
       "</style>\n",
       "<table border=\"1\" class=\"dataframe\">\n",
       "  <thead>\n",
       "    <tr style=\"text-align: right;\">\n",
       "      <th></th>\n",
       "      <th>Coefficient</th>\n",
       "    </tr>\n",
       "    <tr>\n",
       "      <th>Feature</th>\n",
       "      <th></th>\n",
       "    </tr>\n",
       "  </thead>\n",
       "  <tbody>\n",
       "    <tr>\n",
       "      <th>X129</th>\n",
       "      <td>-0.010267</td>\n",
       "    </tr>\n",
       "    <tr>\n",
       "      <th>X194</th>\n",
       "      <td>1.311064</td>\n",
       "    </tr>\n",
       "    <tr>\n",
       "      <th>X202</th>\n",
       "      <td>0.521035</td>\n",
       "    </tr>\n",
       "    <tr>\n",
       "      <th>X204</th>\n",
       "      <td>0.075012</td>\n",
       "    </tr>\n",
       "    <tr>\n",
       "      <th>X242</th>\n",
       "      <td>-0.031730</td>\n",
       "    </tr>\n",
       "  </tbody>\n",
       "</table>\n",
       "</div>"
      ],
      "text/plain": [
       "         Coefficient\n",
       "Feature             \n",
       "X129       -0.010267\n",
       "X194        1.311064\n",
       "X202        0.521035\n",
       "X204        0.075012\n",
       "X242       -0.031730"
      ]
     },
     "execution_count": 35,
     "metadata": {},
     "output_type": "execute_result"
    }
   ],
   "source": [
    "feature_coefficients_Y2"
   ]
  },
  {
   "cell_type": "code",
   "execution_count": 36,
   "metadata": {},
   "outputs": [],
   "source": [
    "selected2 = feature_coefficients_Y2.index.to_list() "
   ]
  },
  {
   "cell_type": "code",
   "execution_count": 37,
   "metadata": {},
   "outputs": [],
   "source": [
    "X_train_new2 = X_train_Y2[selected2]\n",
    "X_test_new2 = X_test_Y2[selected2]"
   ]
  },
  {
   "cell_type": "code",
   "execution_count": 38,
   "metadata": {},
   "outputs": [],
   "source": [
    "model_lasso_in2 = sm.OLS(Y2_train, X_train_new2).fit() "
   ]
  },
  {
   "cell_type": "code",
   "execution_count": 39,
   "metadata": {},
   "outputs": [
    {
     "data": {
      "text/html": [
       "<table class=\"simpletable\">\n",
       "<caption>OLS Regression Results</caption>\n",
       "<tr>\n",
       "  <th>Dep. Variable:</th>           <td>Y2</td>        <th>  R-squared (uncentered):</th>      <td>   0.649</td> \n",
       "</tr>\n",
       "<tr>\n",
       "  <th>Model:</th>                   <td>OLS</td>       <th>  Adj. R-squared (uncentered):</th> <td>   0.646</td> \n",
       "</tr>\n",
       "<tr>\n",
       "  <th>Method:</th>             <td>Least Squares</td>  <th>  F-statistic:       </th>          <td>   173.7</td> \n",
       "</tr>\n",
       "<tr>\n",
       "  <th>Date:</th>             <td>Sun, 21 Jan 2024</td> <th>  Prob (F-statistic):</th>          <td>2.70e-104</td>\n",
       "</tr>\n",
       "<tr>\n",
       "  <th>Time:</th>                 <td>13:32:36</td>     <th>  Log-Likelihood:    </th>          <td> -1008.5</td> \n",
       "</tr>\n",
       "<tr>\n",
       "  <th>No. Observations:</th>      <td>   474</td>      <th>  AIC:               </th>          <td>   2027.</td> \n",
       "</tr>\n",
       "<tr>\n",
       "  <th>Df Residuals:</th>          <td>   469</td>      <th>  BIC:               </th>          <td>   2048.</td> \n",
       "</tr>\n",
       "<tr>\n",
       "  <th>Df Model:</th>              <td>     5</td>      <th>                     </th>              <td> </td>    \n",
       "</tr>\n",
       "<tr>\n",
       "  <th>Covariance Type:</th>      <td>nonrobust</td>    <th>                     </th>              <td> </td>    \n",
       "</tr>\n",
       "</table>\n",
       "<table class=\"simpletable\">\n",
       "<tr>\n",
       "    <td></td>      <th>coef</th>     <th>std err</th>      <th>t</th>      <th>P>|t|</th>  <th>[0.025</th>    <th>0.975]</th>  \n",
       "</tr>\n",
       "<tr>\n",
       "  <th>X129</th> <td>  -45.5991</td> <td>   45.884</td> <td>   -0.994</td> <td> 0.321</td> <td> -135.764</td> <td>   44.565</td>\n",
       "</tr>\n",
       "<tr>\n",
       "  <th>X194</th> <td>    0.3841</td> <td>    0.051</td> <td>    7.572</td> <td> 0.000</td> <td>    0.284</td> <td>    0.484</td>\n",
       "</tr>\n",
       "<tr>\n",
       "  <th>X202</th> <td>    0.0385</td> <td>    0.024</td> <td>    1.585</td> <td> 0.114</td> <td>   -0.009</td> <td>    0.086</td>\n",
       "</tr>\n",
       "<tr>\n",
       "  <th>X204</th> <td>    0.0592</td> <td>    0.030</td> <td>    1.983</td> <td> 0.048</td> <td>    0.001</td> <td>    0.118</td>\n",
       "</tr>\n",
       "<tr>\n",
       "  <th>X242</th> <td>  -20.8167</td> <td>    6.350</td> <td>   -3.278</td> <td> 0.001</td> <td>  -33.295</td> <td>   -8.338</td>\n",
       "</tr>\n",
       "</table>\n",
       "<table class=\"simpletable\">\n",
       "<tr>\n",
       "  <th>Omnibus:</th>       <td>158.511</td> <th>  Durbin-Watson:     </th> <td>   1.981</td>\n",
       "</tr>\n",
       "<tr>\n",
       "  <th>Prob(Omnibus):</th> <td> 0.000</td>  <th>  Jarque-Bera (JB):  </th> <td>1654.229</td>\n",
       "</tr>\n",
       "<tr>\n",
       "  <th>Skew:</th>          <td> 1.129</td>  <th>  Prob(JB):          </th> <td>    0.00</td>\n",
       "</tr>\n",
       "<tr>\n",
       "  <th>Kurtosis:</th>      <td>11.869</td>  <th>  Cond. No.          </th> <td>7.37e+03</td>\n",
       "</tr>\n",
       "</table><br/><br/>Notes:<br/>[1] R² is computed without centering (uncentered) since the model does not contain a constant.<br/>[2] Standard Errors assume that the covariance matrix of the errors is correctly specified.<br/>[3] The condition number is large, 7.37e+03. This might indicate that there are<br/>strong multicollinearity or other numerical problems."
      ],
      "text/latex": [
       "\\begin{center}\n",
       "\\begin{tabular}{lclc}\n",
       "\\toprule\n",
       "\\textbf{Dep. Variable:}    &        Y2        & \\textbf{  R-squared (uncentered):}      &     0.649   \\\\\n",
       "\\textbf{Model:}            &       OLS        & \\textbf{  Adj. R-squared (uncentered):} &     0.646   \\\\\n",
       "\\textbf{Method:}           &  Least Squares   & \\textbf{  F-statistic:       }          &     173.7   \\\\\n",
       "\\textbf{Date:}             & Sun, 21 Jan 2024 & \\textbf{  Prob (F-statistic):}          & 2.70e-104   \\\\\n",
       "\\textbf{Time:}             &     13:32:36     & \\textbf{  Log-Likelihood:    }          &   -1008.5   \\\\\n",
       "\\textbf{No. Observations:} &         474      & \\textbf{  AIC:               }          &     2027.   \\\\\n",
       "\\textbf{Df Residuals:}     &         469      & \\textbf{  BIC:               }          &     2048.   \\\\\n",
       "\\textbf{Df Model:}         &           5      & \\textbf{                     }          &             \\\\\n",
       "\\textbf{Covariance Type:}  &    nonrobust     & \\textbf{                     }          &             \\\\\n",
       "\\bottomrule\n",
       "\\end{tabular}\n",
       "\\begin{tabular}{lcccccc}\n",
       "              & \\textbf{coef} & \\textbf{std err} & \\textbf{t} & \\textbf{P$> |$t$|$} & \\textbf{[0.025} & \\textbf{0.975]}  \\\\\n",
       "\\midrule\n",
       "\\textbf{X129} &     -45.5991  &       45.884     &    -0.994  &         0.321        &     -135.764    &       44.565     \\\\\n",
       "\\textbf{X194} &       0.3841  &        0.051     &     7.572  &         0.000        &        0.284    &        0.484     \\\\\n",
       "\\textbf{X202} &       0.0385  &        0.024     &     1.585  &         0.114        &       -0.009    &        0.086     \\\\\n",
       "\\textbf{X204} &       0.0592  &        0.030     &     1.983  &         0.048        &        0.001    &        0.118     \\\\\n",
       "\\textbf{X242} &     -20.8167  &        6.350     &    -3.278  &         0.001        &      -33.295    &       -8.338     \\\\\n",
       "\\bottomrule\n",
       "\\end{tabular}\n",
       "\\begin{tabular}{lclc}\n",
       "\\textbf{Omnibus:}       & 158.511 & \\textbf{  Durbin-Watson:     } &    1.981  \\\\\n",
       "\\textbf{Prob(Omnibus):} &   0.000 & \\textbf{  Jarque-Bera (JB):  } & 1654.229  \\\\\n",
       "\\textbf{Skew:}          &   1.129 & \\textbf{  Prob(JB):          } &     0.00  \\\\\n",
       "\\textbf{Kurtosis:}      &  11.869 & \\textbf{  Cond. No.          } & 7.37e+03  \\\\\n",
       "\\bottomrule\n",
       "\\end{tabular}\n",
       "%\\caption{OLS Regression Results}\n",
       "\\end{center}\n",
       "\n",
       "Notes: \\newline\n",
       " [1] R² is computed without centering (uncentered) since the model does not contain a constant. \\newline\n",
       " [2] Standard Errors assume that the covariance matrix of the errors is correctly specified. \\newline\n",
       " [3] The condition number is large, 7.37e+03. This might indicate that there are \\newline\n",
       " strong multicollinearity or other numerical problems."
      ],
      "text/plain": [
       "<class 'statsmodels.iolib.summary.Summary'>\n",
       "\"\"\"\n",
       "                                 OLS Regression Results                                \n",
       "=======================================================================================\n",
       "Dep. Variable:                     Y2   R-squared (uncentered):                   0.649\n",
       "Model:                            OLS   Adj. R-squared (uncentered):              0.646\n",
       "Method:                 Least Squares   F-statistic:                              173.7\n",
       "Date:                Sun, 21 Jan 2024   Prob (F-statistic):                   2.70e-104\n",
       "Time:                        13:32:36   Log-Likelihood:                         -1008.5\n",
       "No. Observations:                 474   AIC:                                      2027.\n",
       "Df Residuals:                     469   BIC:                                      2048.\n",
       "Df Model:                           5                                                  \n",
       "Covariance Type:            nonrobust                                                  \n",
       "==============================================================================\n",
       "                 coef    std err          t      P>|t|      [0.025      0.975]\n",
       "------------------------------------------------------------------------------\n",
       "X129         -45.5991     45.884     -0.994      0.321    -135.764      44.565\n",
       "X194           0.3841      0.051      7.572      0.000       0.284       0.484\n",
       "X202           0.0385      0.024      1.585      0.114      -0.009       0.086\n",
       "X204           0.0592      0.030      1.983      0.048       0.001       0.118\n",
       "X242         -20.8167      6.350     -3.278      0.001     -33.295      -8.338\n",
       "==============================================================================\n",
       "Omnibus:                      158.511   Durbin-Watson:                   1.981\n",
       "Prob(Omnibus):                  0.000   Jarque-Bera (JB):             1654.229\n",
       "Skew:                           1.129   Prob(JB):                         0.00\n",
       "Kurtosis:                      11.869   Cond. No.                     7.37e+03\n",
       "==============================================================================\n",
       "\n",
       "Notes:\n",
       "[1] R² is computed without centering (uncentered) since the model does not contain a constant.\n",
       "[2] Standard Errors assume that the covariance matrix of the errors is correctly specified.\n",
       "[3] The condition number is large, 7.37e+03. This might indicate that there are\n",
       "strong multicollinearity or other numerical problems.\n",
       "\"\"\""
      ]
     },
     "execution_count": 39,
     "metadata": {},
     "output_type": "execute_result"
    }
   ],
   "source": [
    "model_lasso_in2.summary() "
   ]
  },
  {
   "cell_type": "code",
   "execution_count": 40,
   "metadata": {},
   "outputs": [],
   "source": [
    "pred2 = model_lasso_in2.predict(X_test_new2)"
   ]
  },
  {
   "cell_type": "code",
   "execution_count": 41,
   "metadata": {},
   "outputs": [
    {
     "name": "stdout",
     "output_type": "stream",
     "text": [
      "Mean Squared Error: 4.6676726\n"
     ]
    }
   ],
   "source": [
    "mse2 = mean_squared_error(Y2_test, pred2)\n",
    "print(\"Mean Squared Error:\", mse2)"
   ]
  },
  {
   "cell_type": "code",
   "execution_count": 42,
   "metadata": {},
   "outputs": [
    {
     "data": {
      "text/plain": [
       "<matplotlib.collections.PathCollection at 0x7ff1d6a24310>"
      ]
     },
     "execution_count": 42,
     "metadata": {},
     "output_type": "execute_result"
    },
    {
     "data": {
      "image/png": "[encoded data removed]",
      "text/plain": [
       "<Figure size 640x480 with 1 Axes>"
      ]
     },
     "metadata": {},
     "output_type": "display_data"
    }
   ],
   "source": [
    "plt.scatter(Y2_test, pred2)"
   ]
  },
  {
   "cell_type": "code",
   "execution_count": 43,
   "metadata": {},
   "outputs": [
    {
     "name": "stdout",
     "output_type": "stream",
     "text": [
      "Out of Sample R-Sqaured: -1.6021688490837507\n"
     ]
    }
   ],
   "source": [
    "oos_r2_2 = 1 - mse2*5/Y2_test.var() \n",
    "print(\"Out of Sample R-Sqaured:\", oos_r2_2)"
   ]
  },
  {
   "cell_type": "code",
   "execution_count": null,
   "metadata": {},
   "outputs": [],
   "source": []
  }
 ],
 "metadata": {
  "kernelspec": {
   "display_name": "base",
   "language": "python",
   "name": "python3"
  },
  "language_info": {
   "codemirror_mode": {
    "name": "ipython",
    "version": 3
   },
   "file_extension": ".py",
   "mimetype": "text/x-python",
   "name": "python",
   "nbconvert_exporter": "python",
   "pygments_lexer": "ipython3",
   "version": "3.9.18"
  }
 },
 "nbformat": 4,
 "nbformat_minor": 2
}
